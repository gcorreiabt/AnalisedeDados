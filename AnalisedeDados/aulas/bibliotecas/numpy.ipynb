{
 "cells": [
  {
   "cell_type": "code",
   "execution_count": 1,
   "id": "b4e747fa",
   "metadata": {},
   "outputs": [],
   "source": [
    "import numpy as np"
   ]
  },
  {
   "cell_type": "code",
   "execution_count": null,
   "id": "ad872d23",
   "metadata": {},
   "outputs": [
    {
     "name": "stdout",
     "output_type": "stream",
     "text": [
      "[[1]\n",
      " [1]]\n"
     ]
    }
   ],
   "source": [
    "arr = np.arange(0, 10, 1, \"int\") #usado para criar um array de 0 a 9 com um passo de 1\n",
    "arr1 = np.reshape(arr, (2, 5)) #usado para mudar a forma do array para uma matriz\n",
    "\n",
    "matriz1 = np.array([[1, 2], [3, 4]])    #usado para criar uma matriz com os valores especificados\n",
    "matriz2 = np.array([[5, 6], [7, 8]])\n",
    "\n",
    "arr0 = np.zeros((3, 3), 'int') #usado para criar uma matriz ou array de zeros, até mesmo matrizes com 3 dimensões\n",
    "arr02 = np.zeros((5), 'int')\n",
    "arr0 = np.zeros((3, 3, 3), 'int') # 3 dimensões\n",
    "\n",
    "arr_eye = np.eye(5,5,0, 'int') #usado para criar uma matriz identidade de 5x5\n",
    "arr_eye = np.eye(5, 5, 1, 'int') #usado para deslocar o valor da diagonal\n",
    "\n",
    "num = np.random.rand() * 20 #usado para gerar um número aleatório entre 0 e 20\n",
    "num2 = np.random.rand(2, 3, 2) * 10 #usado para gerar uma matriz de numeros aleatórios com forma especificada\n",
    "# primeiro valor é o número de linhas, segundo o número de coluna o terceiro o número de profundidade\n",
    "\n",
    "dif = np.diff(matriz1) #usado para calcular a diferença entre os elementos do array\n",
    "\n",
    "app = np.append(arr, 10) #usado para adicionar um valor ao final do array\n",
    "\n",
    "arr_vs = np.vstack((arr1, arr2)) #usado para empilhar os arrays verticalmente\n",
    "arr_column_stack = np.collumn_stack((arr1, arr2)) #usado para empilhar os arrays em colunas\n",
    "\n",
    "np.transpose(arr1) #usado para transpor a matriz, ou seja, trocar linhas por colunas\n",
    "\n",
    "print(dif)"
   ]
  },
  {
   "cell_type": "code",
   "execution_count": 1,
   "id": "8610f792",
   "metadata": {},
   "outputs": [
    {
     "ename": "NameError",
     "evalue": "name 'np' is not defined",
     "output_type": "error",
     "traceback": [
      "\u001b[31m---------------------------------------------------------------------------\u001b[39m",
      "\u001b[31mNameError\u001b[39m                                 Traceback (most recent call last)",
      "\u001b[36mCell\u001b[39m\u001b[36m \u001b[39m\u001b[32mIn[1]\u001b[39m\u001b[32m, line 1\u001b[39m\n\u001b[32m----> \u001b[39m\u001b[32m1\u001b[39m arr1 = \u001b[43mnp\u001b[49m.array([\u001b[32m1\u001b[39m,\u001b[32m2\u001b[39m,\u001b[32m3\u001b[39m])\n\u001b[32m      2\u001b[39m arr2 = np.array([\u001b[32m4\u001b[39m,\u001b[32m5\u001b[39m,\u001b[32m6\u001b[39m])\n\u001b[32m      4\u001b[39m arr_column_stack = np.collumn_stack((arr1, arr2)) \u001b[38;5;66;03m#usado para empilhar os arrays em colunas\u001b[39;00m\n",
      "\u001b[31mNameError\u001b[39m: name 'np' is not defined"
     ]
    }
   ],
   "source": [
    "arr1 = np.array([1,2,3])\n",
    "arr2 = np.array([4,5,6])\n",
    "\n",
    "arr_column_stack = np.collumn_stack((arr1, arr2)) #usado para empilhar os arrays em colunas"
   ]
  }
 ],
 "metadata": {
  "kernelspec": {
   "display_name": "Python 3",
   "language": "python",
   "name": "python3"
  },
  "language_info": {
   "codemirror_mode": {
    "name": "ipython",
    "version": 3
   },
   "file_extension": ".py",
   "mimetype": "text/x-python",
   "name": "python",
   "nbconvert_exporter": "python",
   "pygments_lexer": "ipython3",
   "version": "3.13.4"
  }
 },
 "nbformat": 4,
 "nbformat_minor": 5
}
