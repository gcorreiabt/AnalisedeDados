{
 "cells": [
  {
   "cell_type": "code",
   "execution_count": 1,
   "id": "667c5920",
   "metadata": {},
   "outputs": [],
   "source": [
    "import pandas as pd"
   ]
  },
  {
   "cell_type": "code",
   "execution_count": null,
   "id": "8bacae12",
   "metadata": {},
   "outputs": [],
   "source": [
    "# Dataset iris\n",
    "\n",
    "# df = pd.read_csv(\"nome_do_arquivo.csv\", header= None) #csv (Header None para não considerar a primeira linha como cabeçalho)\n",
    "# df = pd.read_excel(\"nome_do_arquivo.xlsx\", sheet_name=\"nome_da_planilha\")  #xlsx\n",
    "# df = pd.read_json(\"nome_do_arquivo.json\")  #json\n",
    "\n",
    "csv_url = 'https://archive.ics.uci.edu/ml/machine-learning-databases/iris/iris.data'\n",
    "col_names = ['sepal_length', 'sepal_width', 'petal_length', 'petal_width', 'species']\n",
    "iris_internet = pd.read_csv(csv_url, names = col_names)  #arquivo CSV exportado da internet, names para definir os nomes das colunas\n",
    "iris_local = pd.read_csv(\"C:/Users/gabri/OneDrive/Desktop/machine-learning/AnalisedeDados/aulas/data/iris.csv\", names= col_names)  # mesmo arquivo CSV, mas agora local\n",
    "\n",
    "iris.head() # Exibe as primeiras linhas do DataFrame\n",
    "iris.tail() # Exibe as últimas linhas do DataFrame\n",
    "iris.shape # Exibe o número de linhas e colunas do DataFrame Obs: não tem parênteses\n",
    "iris.info() # Exibe informações gerais do DataFrame, como tipos de dados e valores nulos\n",
    "iris.describe() # Exibe estatísticas descritivas das colunas numéricas do DataFrame\n",
    "\n",
    "mean() # Calcula a média dos valores de uma coluna\n",
    "median() # Calcula a mediana dos valores de uma coluna\n",
    "mode() # Calcula a moda dos valores de uma coluna\n",
    "min() # Retorna o valor mínimo de uma coluna\n",
    "max() # Retorna o valor máximo de uma coluna\n",
    "sum() # Retorna a sina dis valores de uma coluna\n",
    "count() # Retorna a contagem de valores não-nulos de uma coluna\n",
    "std() # Calcula o desvio padrão dos valores de uma coluna\n",
    "var() # Calcula a variança dos valores de uma coluna\n",
    "quantile() # Calcula o percentil especifidcado dos valores de uma coluna\n",
    "cov() #calcula a covariancia entre colunas de um dataframe\n",
    "corr() # Calcula a correlação entre colunas de um DataFrame\n",
    "\n",
    "iris_local[['sepal_length', 'sepal_width', 'petal_length', 'petal_width']] # Seleciona colunas específicas do DataFrame\n",
    "iris.loc[0] # Trás informaçõesd de uma linha específica do DataFrame\n",
    "iris.iloc[0:10, 1] # Trás informações de linhas específicas e uma coluna específica do DataFrame\n",
    "\n",
    "iris_local[iris_local['species'] == 'Iris-virginica']  # Filtra o DataFrame para mostrar apenas as linhas onde a coluna 'species' é igual a 'Iris-virginica'\n",
    "iris_local[iris_local['sepal_length'] > 6]  # Filtra o DataFrame para mostrar apenas as linhas onde a coluna 'sepal_length' é maior que 6\n",
    "iris_local.sort_values('sepal_length', ascending= False) # Ordena o DataFrame com base na coluna 'sepal_length'\n",
    "\n",
    "iris_local.notnull() # Verifica se há valores não nulos no DataFrame\n",
    "iris_local.isnull()  # Verifica se há valores nulos no DataFrame"
   ]
  },
  {
   "cell_type": "code",
   "execution_count": 24,
   "id": "317fd48b",
   "metadata": {},
   "outputs": [
    {
     "data": {
      "application/vnd.microsoft.datawrangler.viewer.v0+json": {
       "columns": [
        {
         "name": "index",
         "rawType": "int64",
         "type": "integer"
        },
        {
         "name": "sepal_length",
         "rawType": "bool",
         "type": "boolean"
        },
        {
         "name": "sepal_width",
         "rawType": "bool",
         "type": "boolean"
        },
        {
         "name": "petal_length",
         "rawType": "bool",
         "type": "boolean"
        },
        {
         "name": "petal_width",
         "rawType": "bool",
         "type": "boolean"
        }
       ],
       "ref": "feabf171-319f-40e5-996e-5d3cf36ddf72",
       "rows": [
        [
         "0",
         "True",
         "True",
         "True",
         "True"
        ],
        [
         "1",
         "True",
         "True",
         "True",
         "True"
        ],
        [
         "2",
         "True",
         "True",
         "True",
         "True"
        ],
        [
         "3",
         "True",
         "True",
         "True",
         "True"
        ],
        [
         "4",
         "True",
         "True",
         "True",
         "True"
        ],
        [
         "5",
         "True",
         "True",
         "True",
         "True"
        ],
        [
         "6",
         "True",
         "True",
         "True",
         "True"
        ],
        [
         "7",
         "True",
         "True",
         "True",
         "True"
        ],
        [
         "8",
         "True",
         "True",
         "True",
         "True"
        ],
        [
         "9",
         "True",
         "True",
         "True",
         "True"
        ],
        [
         "10",
         "True",
         "True",
         "True",
         "True"
        ],
        [
         "11",
         "True",
         "True",
         "True",
         "True"
        ],
        [
         "12",
         "True",
         "True",
         "True",
         "True"
        ],
        [
         "13",
         "True",
         "True",
         "True",
         "True"
        ],
        [
         "14",
         "True",
         "True",
         "True",
         "True"
        ],
        [
         "15",
         "True",
         "True",
         "True",
         "True"
        ],
        [
         "16",
         "True",
         "True",
         "True",
         "True"
        ],
        [
         "17",
         "True",
         "True",
         "True",
         "True"
        ],
        [
         "18",
         "True",
         "True",
         "True",
         "True"
        ],
        [
         "19",
         "True",
         "True",
         "True",
         "True"
        ],
        [
         "20",
         "True",
         "True",
         "True",
         "True"
        ],
        [
         "21",
         "True",
         "True",
         "True",
         "True"
        ],
        [
         "22",
         "True",
         "True",
         "True",
         "True"
        ],
        [
         "23",
         "True",
         "True",
         "True",
         "True"
        ],
        [
         "24",
         "True",
         "True",
         "True",
         "True"
        ],
        [
         "25",
         "True",
         "True",
         "True",
         "True"
        ],
        [
         "26",
         "True",
         "True",
         "True",
         "True"
        ],
        [
         "27",
         "True",
         "True",
         "True",
         "True"
        ],
        [
         "28",
         "True",
         "True",
         "True",
         "True"
        ],
        [
         "29",
         "True",
         "True",
         "True",
         "True"
        ],
        [
         "30",
         "True",
         "True",
         "True",
         "True"
        ],
        [
         "31",
         "True",
         "True",
         "True",
         "True"
        ],
        [
         "32",
         "True",
         "True",
         "True",
         "True"
        ],
        [
         "33",
         "True",
         "True",
         "True",
         "True"
        ],
        [
         "34",
         "True",
         "True",
         "True",
         "True"
        ],
        [
         "35",
         "True",
         "True",
         "True",
         "True"
        ],
        [
         "36",
         "True",
         "True",
         "True",
         "True"
        ],
        [
         "37",
         "True",
         "True",
         "True",
         "True"
        ],
        [
         "38",
         "True",
         "True",
         "True",
         "True"
        ],
        [
         "39",
         "True",
         "True",
         "True",
         "True"
        ],
        [
         "40",
         "True",
         "True",
         "True",
         "True"
        ],
        [
         "41",
         "True",
         "True",
         "True",
         "True"
        ],
        [
         "42",
         "True",
         "True",
         "True",
         "True"
        ],
        [
         "43",
         "True",
         "True",
         "True",
         "True"
        ],
        [
         "44",
         "True",
         "True",
         "True",
         "True"
        ],
        [
         "45",
         "True",
         "True",
         "True",
         "True"
        ],
        [
         "46",
         "True",
         "True",
         "True",
         "True"
        ],
        [
         "47",
         "True",
         "True",
         "True",
         "True"
        ],
        [
         "48",
         "True",
         "True",
         "True",
         "True"
        ],
        [
         "49",
         "True",
         "True",
         "True",
         "True"
        ]
       ],
       "shape": {
        "columns": 4,
        "rows": 150
       }
      },
      "text/html": [
       "<div>\n",
       "<style scoped>\n",
       "    .dataframe tbody tr th:only-of-type {\n",
       "        vertical-align: middle;\n",
       "    }\n",
       "\n",
       "    .dataframe tbody tr th {\n",
       "        vertical-align: top;\n",
       "    }\n",
       "\n",
       "    .dataframe thead th {\n",
       "        text-align: right;\n",
       "    }\n",
       "</style>\n",
       "<table border=\"1\" class=\"dataframe\">\n",
       "  <thead>\n",
       "    <tr style=\"text-align: right;\">\n",
       "      <th></th>\n",
       "      <th>sepal_length</th>\n",
       "      <th>sepal_width</th>\n",
       "      <th>petal_length</th>\n",
       "      <th>petal_width</th>\n",
       "    </tr>\n",
       "  </thead>\n",
       "  <tbody>\n",
       "    <tr>\n",
       "      <th>0</th>\n",
       "      <td>True</td>\n",
       "      <td>True</td>\n",
       "      <td>True</td>\n",
       "      <td>True</td>\n",
       "    </tr>\n",
       "    <tr>\n",
       "      <th>1</th>\n",
       "      <td>True</td>\n",
       "      <td>True</td>\n",
       "      <td>True</td>\n",
       "      <td>True</td>\n",
       "    </tr>\n",
       "    <tr>\n",
       "      <th>2</th>\n",
       "      <td>True</td>\n",
       "      <td>True</td>\n",
       "      <td>True</td>\n",
       "      <td>True</td>\n",
       "    </tr>\n",
       "    <tr>\n",
       "      <th>3</th>\n",
       "      <td>True</td>\n",
       "      <td>True</td>\n",
       "      <td>True</td>\n",
       "      <td>True</td>\n",
       "    </tr>\n",
       "    <tr>\n",
       "      <th>4</th>\n",
       "      <td>True</td>\n",
       "      <td>True</td>\n",
       "      <td>True</td>\n",
       "      <td>True</td>\n",
       "    </tr>\n",
       "    <tr>\n",
       "      <th>...</th>\n",
       "      <td>...</td>\n",
       "      <td>...</td>\n",
       "      <td>...</td>\n",
       "      <td>...</td>\n",
       "    </tr>\n",
       "    <tr>\n",
       "      <th>145</th>\n",
       "      <td>True</td>\n",
       "      <td>True</td>\n",
       "      <td>True</td>\n",
       "      <td>True</td>\n",
       "    </tr>\n",
       "    <tr>\n",
       "      <th>146</th>\n",
       "      <td>True</td>\n",
       "      <td>True</td>\n",
       "      <td>True</td>\n",
       "      <td>True</td>\n",
       "    </tr>\n",
       "    <tr>\n",
       "      <th>147</th>\n",
       "      <td>True</td>\n",
       "      <td>True</td>\n",
       "      <td>True</td>\n",
       "      <td>True</td>\n",
       "    </tr>\n",
       "    <tr>\n",
       "      <th>148</th>\n",
       "      <td>True</td>\n",
       "      <td>True</td>\n",
       "      <td>True</td>\n",
       "      <td>True</td>\n",
       "    </tr>\n",
       "    <tr>\n",
       "      <th>149</th>\n",
       "      <td>True</td>\n",
       "      <td>True</td>\n",
       "      <td>True</td>\n",
       "      <td>True</td>\n",
       "    </tr>\n",
       "  </tbody>\n",
       "</table>\n",
       "<p>150 rows × 4 columns</p>\n",
       "</div>"
      ],
      "text/plain": [
       "     sepal_length  sepal_width  petal_length  petal_width\n",
       "0            True         True          True         True\n",
       "1            True         True          True         True\n",
       "2            True         True          True         True\n",
       "3            True         True          True         True\n",
       "4            True         True          True         True\n",
       "..            ...          ...           ...          ...\n",
       "145          True         True          True         True\n",
       "146          True         True          True         True\n",
       "147          True         True          True         True\n",
       "148          True         True          True         True\n",
       "149          True         True          True         True\n",
       "\n",
       "[150 rows x 4 columns]"
      ]
     },
     "execution_count": 24,
     "metadata": {},
     "output_type": "execute_result"
    }
   ],
   "source": [
    "iris_local = pd.read_csv(\"C:/Users/gabri/OneDrive/Desktop/machine-learning/AnalisedeDados/aulas/data/iris.csv\", names= col_names)\n",
    "\n",
    "iris.notnull()"
   ]
  }
 ],
 "metadata": {
  "kernelspec": {
   "display_name": "Python 3",
   "language": "python",
   "name": "python3"
  },
  "language_info": {
   "codemirror_mode": {
    "name": "ipython",
    "version": 3
   },
   "file_extension": ".py",
   "mimetype": "text/x-python",
   "name": "python",
   "nbconvert_exporter": "python",
   "pygments_lexer": "ipython3",
   "version": "3.13.4"
  }
 },
 "nbformat": 4,
 "nbformat_minor": 5
}
